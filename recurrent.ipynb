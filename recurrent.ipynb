{
 "cells": [
  {
   "cell_type": "markdown",
   "metadata": {},
   "source": [
    "#Recurrent Network for Character Prediction"
   ]
  },
  {
   "cell_type": "code",
   "execution_count": 1,
   "metadata": {
    "collapsed": false
   },
   "outputs": [
    {
     "name": "stdout",
     "output_type": "stream",
     "text": [
      "Populating the interactive namespace from numpy and matplotlib\n"
     ]
    }
   ],
   "source": [
    "%pylab inline"
   ]
  },
  {
   "cell_type": "code",
   "execution_count": 2,
   "metadata": {
    "collapsed": false
   },
   "outputs": [],
   "source": [
    "import caffe, string, os\n",
    "from caffe import Net, layers as Lr, params as Pr, NetSpec\n",
    "from caffe.proto.caffe_pb2 import NetParameter, BlobShape, SolverParameter, EltwiseParameter\n",
    "import cPickle as pickle\n",
    "from glob import glob"
   ]
  },
  {
   "cell_type": "code",
   "execution_count": 3,
   "metadata": {
    "collapsed": true
   },
   "outputs": [],
   "source": [
    "save_pkl = lambda file, obj: pickle.dump(obj, open(file, 'wb'), protocol=-1)\n",
    "load_pkl = lambda file: pickle.load(open(file, 'rb'))\n",
    "sf = lambda *x: string.join([str(i) for i in x], '_')"
   ]
  },
  {
   "cell_type": "markdown",
   "metadata": {},
   "source": [
    "##Load Data"
   ]
  },
  {
   "cell_type": "code",
   "execution_count": 4,
   "metadata": {
    "collapsed": true
   },
   "outputs": [],
   "source": [
    "hypes = {\n",
    "    'sequence_length': 100,\n",
    "    'layers_num': 1,\n",
    "    'state_dim': 256,\n",
    "    'batch_size': 200\n",
    "}\n",
    "\n",
    "T = hypes['sequence_length']\n",
    "L = hypes['layers_num']\n",
    "d = hypes['state_dim']\n",
    "b = hypes['batch_size']"
   ]
  },
  {
   "cell_type": "code",
   "execution_count": 5,
   "metadata": {
    "collapsed": false
   },
   "outputs": [
    {
     "name": "stdout",
     "output_type": "stream",
     "text": [
      "(310, 100, 200)\n"
     ]
    }
   ],
   "source": [
    "txt = open('rawtxt/linux_kernel.txt', 'r').read()\n",
    "C = sorted(set(txt))\n",
    "n, k = len(txt), len(C)\n",
    "if k <= 2**8: uintn = uint8\n",
    "else: uintn = uint16\n",
    "X = array([C.index(c) for c in txt], dtype=uintn)\n",
    "Y = X[1:].copy()\n",
    "X = X[:-1]\n",
    "\n",
    "def chop(x, n=None, m=None):\n",
    "    if n: m = len(x)//n\n",
    "    if m: n = len(x)//m\n",
    "    X = split(array(x[:m*n]), n)\n",
    "    return array(X)\n",
    "\n",
    "rshape = lambda A: chop(rollaxis(chop(A,n=b),1,0),m=T)\n",
    "X, Y = map(rshape, [X, Y])\n",
    "\n",
    "save('X.npy', X)\n",
    "save('Y.npy', Y)\n",
    "print X.shape"
   ]
  },
  {
   "cell_type": "markdown",
   "metadata": {
    "collapsed": true
   },
   "source": [
    "##Deploy Saved Model"
   ]
  },
  {
   "cell_type": "code",
   "execution_count": 6,
   "metadata": {
    "collapsed": false
   },
   "outputs": [
    {
     "name": "stdout",
     "output_type": "stream",
     "text": [
      "#ifdef CONFIG_PGR(struct module *module_noter_prev_id(&cmd_info(\"set_file(\"op\"),\n",
      "\t\t\t     int enabled = 1;\n",
      "\n",
      "\tif (preempt_to__state(&devid - interval) {\n",
      "\t\tif (count[2] = {\n",
      "\t{ CTL_INT,\tNET_NES_LIOK:\n",
      "\t\tkdb_prio(tick);\n",
      "\tif (bm_sen are done the last to the before tched start to can the user no pointer to the interrupts */\n",
      "\treturn 0;\n",
      "}\n",
      "\n",
      "/**\n",
      " * Returns;\n",
      "\tstruct perf_event *end of the GNUTA the compated signal to usermode to be the task want to code chip interrupts to the object the unsigned long ip = (uns\n"
     ]
    }
   ],
   "source": [
    "seed_chars = '#i'\n",
    "temperature = 0.7\n",
    "num_chars = 500\n",
    "\n",
    "params = load_pkl('save/params.pkl')\n",
    "net = caffe.Net('save/deploy.prototxt', 1)\n",
    "PC = load_pkl('save/param_corresp.pkl')\n",
    "\n",
    "for i, j in PC:\n",
    "    for ip, p in enumerate(net.params[j]):\n",
    "        p.data[...] = params[i][ip]\n",
    "\n",
    "for c in seed_chars:\n",
    "    x = C.index(c)\n",
    "    net.blobs[sf('x',0)].data[...] = 0\n",
    "    net.blobs[sf('x',0)].data[0, x] = 1\n",
    "    for l in range(L):\n",
    "        state_i = net.blobs[sf('h',0,l)].data\n",
    "        state_f = net.blobs[sf('h',1,l)].data\n",
    "        state_i[...] = state_f\n",
    "    net.forward()\n",
    "\n",
    "gen_chars = []\n",
    "for t in range(num_chars):\n",
    "    z = net.blobs[sf('z',0)].data[0].copy().astype(float)\n",
    "    p = (lambda x: x/sum(x))(exp(z/temperature))\n",
    "    x = random.choice(range(k), p=p)\n",
    "    gen_chars.append(C[x])\n",
    "    net.blobs[sf('x',0)].data[...] = 0\n",
    "    net.blobs[sf('x',0)].data[0, x] = 1\n",
    "    for l in range(L):\n",
    "        state_i = net.blobs[sf('h',0,l)].data\n",
    "        state_f = net.blobs[sf('h',1,l)].data\n",
    "        state_i[...] = state_f\n",
    "    net.forward()\n",
    "            \n",
    "print seed_chars + string.join(gen_chars, '')"
   ]
  },
  {
   "cell_type": "markdown",
   "metadata": {},
   "source": [
    "##Create Model"
   ]
  },
  {
   "cell_type": "code",
   "execution_count": 7,
   "metadata": {
    "collapsed": true
   },
   "outputs": [],
   "source": [
    "def rnn_step(z, h, t, l):\n",
    "    \n",
    "    kwargs_fc = {\n",
    "        'num_output': d,\n",
    "        'param': [{'lr_mult': 1, 'decay_mult': 1, 'name': sf('W', l)},\n",
    "                  {'lr_mult': 2, 'decay_mult': 0, 'name': sf('b', l)}],\n",
    "        'weight_filler': {'type': 'uniform', 'min': -0.01, 'max': 0.01},\n",
    "        'name': sf('fc', t, l)\n",
    "    }\n",
    "    \n",
    "    h = Lr.Concat(z, h)\n",
    "    h = Lr.InnerProduct(h, **kwargs_fc)\n",
    "    h = Lr.TanH(h)\n",
    "    \n",
    "    return h"
   ]
  },
  {
   "cell_type": "code",
   "execution_count": 8,
   "metadata": {
    "collapsed": false
   },
   "outputs": [],
   "source": [
    "PROD = EltwiseParameter.PROD\n",
    "\n",
    "def lstm_step(z, h, t, l):\n",
    "    \n",
    "    kwargs_fc = {\n",
    "        'num_output': 2*d,\n",
    "        'param': [{'lr_mult': 1, 'decay_mult': 1, 'name': sf('W', l)},\n",
    "                  {'lr_mult': 2, 'decay_mult': 0, 'name': sf('b', l)}],\n",
    "        'weight_filler': {'type': 'uniform', 'min': -0.01, 'max': 0.01},\n",
    "        'name': sf('fc', t, l)\n",
    "    }\n",
    "    \n",
    "    c, h = Lr.Slice(h, slice_point=d/2, ntop=2)\n",
    "    h = Lr.Concat(z, h)\n",
    "    h = Lr.InnerProduct(h, **kwargs_fc)\n",
    "    i, f, o, g = Lr.Slice(h, slice_point=[d/2,d,3*d/2], ntop=4)\n",
    "    i = Lr.Sigmoid(i)\n",
    "    f = Lr.Sigmoid(f)\n",
    "    o = Lr.Sigmoid(o)\n",
    "    g = Lr.TanH(g)\n",
    "    c = Lr.Eltwise(Lr.Eltwise(f, c, operation=PROD), Lr.Eltwise(i, g, operation=PROD))\n",
    "    h = Lr.Eltwise(o, Lr.TanH(c), operation=PROD)\n",
    "    h = Lr.Concat(c, h)\n",
    "    \n",
    "    return h"
   ]
  },
  {
   "cell_type": "code",
   "execution_count": 9,
   "metadata": {
    "collapsed": true
   },
   "outputs": [],
   "source": [
    "def rnn_param(T, b, drop=True):\n",
    "    \n",
    "    net_spec = NetSpec()\n",
    "\n",
    "    bsH = BlobShape()\n",
    "    bsH.dim.extend([b,d])\n",
    "    h = []\n",
    "    for l in range(L):\n",
    "        h.append(Lr.DummyData(shape=bsH))\n",
    "        setattr(net_spec, sf('h',0,l), h[l])\n",
    "\n",
    "    bsX = BlobShape()\n",
    "    bsX.dim.extend([b,k])\n",
    "    bsY = BlobShape()\n",
    "    bsY.dim.extend([b])\n",
    "\n",
    "    for t in range(T):\n",
    "\n",
    "        x = Lr.DummyData(shape=bsX)\n",
    "        y = Lr.DummyData(shape=bsY)\n",
    "\n",
    "        h[0] = rnn_step(x, h[0], t, 0)\n",
    "        for l in range(1, L):\n",
    "            h[l] = lstm_step(h[l-1], h[l], t, l)\n",
    "            if drop: h[l] = Lr.Dropout(h[l])\n",
    "\n",
    "        kwargs_fc = {\n",
    "            'num_output': k,\n",
    "            'param': [{'lr_mult': 1, 'decay_mult': 1, 'name': sf('W', L)},\n",
    "                      {'lr_mult': 2, 'decay_mult': 0, 'name': sf('b', L)}],\n",
    "            'weight_filler': {'type': 'uniform', 'min': -0.01, 'max': 0.01},\n",
    "            'name': sf('fc', t, L)\n",
    "        }\n",
    "\n",
    "        z = Lr.InnerProduct(h[-1], **kwargs_fc)\n",
    "        loss = Lr.SoftmaxWithLoss(z, y)\n",
    "\n",
    "        setattr(net_spec, sf('x', t), x)\n",
    "        setattr(net_spec, sf('y', t), y)\n",
    "        setattr(net_spec, sf('z', t), z)\n",
    "        for l in range(L): setattr(net_spec, sf('h', t+1, l), h[l])\n",
    "        setattr(net_spec, sf('loss', t), loss)\n",
    "\n",
    "    return net_spec.to_proto()"
   ]
  },
  {
   "cell_type": "code",
   "execution_count": 10,
   "metadata": {
    "collapsed": false
   },
   "outputs": [],
   "source": [
    "solver_hypes = {\n",
    "    'base_lr': 5e-3,\n",
    "    'weight_decay': 1e-4,\n",
    "    'solver_type': SolverParameter.RMSPROP,\n",
    "    'rms_decay': 0.8,\n",
    "    'lr_policy': 'exp',\n",
    "    'gamma': 0.9999,\n",
    "    'solver_mode': SolverParameter.GPU,\n",
    "    'device_id': 2\n",
    "}\n",
    "\n",
    "solver_param = SolverParameter()\n",
    "solver_param.net_param.CopyFrom(rnn_param(T, b))\n",
    "solver_param.test_net_param.add()\n",
    "solver_param.test_net_param[0].CopyFrom(rnn_param(T, b, drop=False))\n",
    "solver_param.test_iter.extend([1])\n",
    "solver_param.test_interval = 10**9\n",
    "for pr, val in solver_hypes.iteritems():\n",
    "    setattr(solver_param, pr, val)\n",
    "    \n",
    "with open('solver.prototxt', 'w') as file: file.write(str(solver_param))\n",
    "\n",
    "PC = [(sf('fc',l), sf('fc',0,l)) for l in range(L+1)]\n",
    "save_pkl('PC.pkl', PC)"
   ]
  },
  {
   "cell_type": "markdown",
   "metadata": {},
   "source": [
    "###Better to run this from the command line"
   ]
  },
  {
   "cell_type": "code",
   "execution_count": null,
   "metadata": {
    "collapsed": true
   },
   "outputs": [],
   "source": [
    "!python train_recurrent.py"
   ]
  },
  {
   "cell_type": "markdown",
   "metadata": {},
   "source": [
    "##Deploy (run this while training)"
   ]
  },
  {
   "cell_type": "code",
   "execution_count": null,
   "metadata": {
    "collapsed": true
   },
   "outputs": [],
   "source": [
    "seed_chars = '#inc'\n",
    "temperature = 1\n",
    "num_chars = 500\n",
    "\n",
    "params = load_pkl(sorted(glob('params/iter*.pkl'))[-1])\n",
    "open('deploy.prototxt', 'w').write(str(rnn_param(1, 1, drop=False)))\n",
    "net = caffe.Net('deploy.prototxt', 1)\n",
    "\n",
    "for i, j in PC:\n",
    "    for ip, p in enumerate(net.params[j]):\n",
    "        p.data[...] = params[i][ip]\n",
    "\n",
    "for c in seed_chars:\n",
    "    x = C.index(c)\n",
    "    net.blobs[sf('x',0)].data[...] = 0\n",
    "    net.blobs[sf('x',0)].data[0, x] = 1\n",
    "    for l in range(L):\n",
    "        state_i = net.blobs[sf('h',0,l)].data\n",
    "        state_f = net.blobs[sf('h',1,l)].data\n",
    "        state_i[...] = state_f\n",
    "    net.forward()\n",
    "\n",
    "gen_chars = []\n",
    "for t in range(num_chars):\n",
    "    z = net.blobs[sf('z',0)].data[0].copy().astype(float)\n",
    "    p = (lambda x: x/sum(x))(exp(z/temperature))\n",
    "    x = random.choice(range(k), p=p)\n",
    "    gen_chars.append(C[x])\n",
    "    net.blobs[sf('x',0)].data[...] = 0\n",
    "    net.blobs[sf('x',0)].data[0, x] = 1\n",
    "    for l in range(L):\n",
    "        state_i = net.blobs[sf('h',0,l)].data\n",
    "        state_f = net.blobs[sf('h',1,l)].data\n",
    "        state_i[...] = state_f\n",
    "    net.forward()\n",
    "            \n",
    "print seed_chars + string.join(gen_chars, '')"
   ]
  }
 ],
 "metadata": {
  "kernelspec": {
   "display_name": "Python 2",
   "language": "python",
   "name": "python2"
  },
  "language_info": {
   "codemirror_mode": {
    "name": "ipython",
    "version": 2
   },
   "file_extension": ".py",
   "mimetype": "text/x-python",
   "name": "python",
   "nbconvert_exporter": "python",
   "pygments_lexer": "ipython2",
   "version": "2.7.6"
  }
 },
 "nbformat": 4,
 "nbformat_minor": 0
}
